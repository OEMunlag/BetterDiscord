{
  "cells": [
    {
      "cell_type": "markdown",
      "metadata": {
        "id": "view-in-github",
        "colab_type": "text"
      },
      "source": [
        "<a href=\"https://colab.research.google.com/github/OEMunlag/BetterDiscord/blob/master/PlayStoreDL.ipynb\" target=\"_parent\"><img src=\"https://colab.research.google.com/assets/colab-badge.svg\" alt=\"Open In Colab\"/></a>"
      ]
    },
    {
      "cell_type": "code",
      "source": [
        "!git clone --recursive https://github.com/OEMunlag/PlaystoreDownloader\n",
        "!python3 -m pip install pipenv"
      ],
      "metadata": {
        "colab": {
          "base_uri": "https://localhost:8080/"
        },
        "id": "54plifx24JRR",
        "outputId": "e3d744ad-cd46-43f3-9558-727a7f7cd310"
      },
      "execution_count": 2,
      "outputs": [
        {
          "output_type": "stream",
          "name": "stdout",
          "text": [
            "fatal: destination path 'PlaystoreDownloader' already exists and is not an empty directory.\n",
            "Looking in indexes: https://pypi.org/simple, https://us-python.pkg.dev/colab-wheels/public/simple/\n",
            "Collecting pipenv\n",
            "  Downloading pipenv-2023.4.29-py3-none-any.whl (2.8 MB)\n",
            "\u001b[2K     \u001b[90m━━━━━━━━━━━━━━━━━━━━━━━━━━━━━━━━━━━━━━━━\u001b[0m \u001b[32m2.8/2.8 MB\u001b[0m \u001b[31m23.1 MB/s\u001b[0m eta \u001b[36m0:00:00\u001b[0m\n",
            "\u001b[?25hCollecting virtualenv-clone>=0.2.5\n",
            "  Downloading virtualenv_clone-0.5.7-py3-none-any.whl (6.6 kB)\n",
            "Requirement already satisfied: setuptools>=67.0.0 in /usr/local/lib/python3.10/dist-packages (from pipenv) (67.7.2)\n",
            "Requirement already satisfied: certifi in /usr/local/lib/python3.10/dist-packages (from pipenv) (2022.12.7)\n",
            "Collecting virtualenv>=20.17.1\n",
            "  Downloading virtualenv-20.23.0-py3-none-any.whl (3.3 MB)\n",
            "\u001b[2K     \u001b[90m━━━━━━━━━━━━━━━━━━━━━━━━━━━━━━━━━━━━━━━━\u001b[0m \u001b[32m3.3/3.3 MB\u001b[0m \u001b[31m82.1 MB/s\u001b[0m eta \u001b[36m0:00:00\u001b[0m\n",
            "\u001b[?25hCollecting distlib<1,>=0.3.6\n",
            "  Downloading distlib-0.3.6-py2.py3-none-any.whl (468 kB)\n",
            "\u001b[2K     \u001b[90m━━━━━━━━━━━━━━━━━━━━━━━━━━━━━━━━━━━━━━\u001b[0m \u001b[32m468.5/468.5 kB\u001b[0m \u001b[31m32.4 MB/s\u001b[0m eta \u001b[36m0:00:00\u001b[0m\n",
            "\u001b[?25hRequirement already satisfied: platformdirs<4,>=3.2 in /usr/local/lib/python3.10/dist-packages (from virtualenv>=20.17.1->pipenv) (3.3.0)\n",
            "Requirement already satisfied: filelock<4,>=3.11 in /usr/local/lib/python3.10/dist-packages (from virtualenv>=20.17.1->pipenv) (3.12.0)\n",
            "Installing collected packages: distlib, virtualenv-clone, virtualenv, pipenv\n",
            "Successfully installed distlib-0.3.6 pipenv-2023.4.29 virtualenv-20.23.0 virtualenv-clone-0.5.7\n"
          ]
        }
      ]
    },
    {
      "cell_type": "code",
      "source": [
        "!cd PlaystoreDownloader && \\\n",
        "  pipenv install --deploy && \\\n",
        "  pipenv run python3 -m playstoredownloader.cli --help"
      ],
      "metadata": {
        "id": "pFsepfcU41Uy"
      },
      "execution_count": null,
      "outputs": []
    },
    {
      "cell_type": "code",
      "source": [
        "#@title Prepare your credentials.\n",
        "!apt install nano && \\\n",
        " nano /content/PlaystoreDownloader/credentials.json"
      ],
      "metadata": {
        "colab": {
          "base_uri": "https://localhost:8080/"
        },
        "id": "L3XLnJzY5_kI",
        "outputId": "0e349f7c-1398-49c2-8450-ce65e912eae2"
      },
      "execution_count": null,
      "outputs": [
        {
          "output_type": "stream",
          "name": "stdout",
          "text": [
            "Reading package lists... Done\n",
            "Building dependency tree       \n",
            "Reading state information... Done\n",
            "Suggested packages:\n",
            "  hunspell\n",
            "The following NEW packages will be installed:\n",
            "  nano\n",
            "0 upgraded, 1 newly installed, 0 to remove and 24 not upgraded.\n",
            "Need to get 269 kB of archives.\n",
            "After this operation, 868 kB of additional disk space will be used.\n",
            "Get:1 http://archive.ubuntu.com/ubuntu focal/main amd64 nano amd64 4.8-1ubuntu1 [269 kB]\n",
            "Fetched 269 kB in 1s (416 kB/s)\n",
            "Selecting previously unselected package nano.\n",
            "(Reading database ... 122518 files and directories currently installed.)\n",
            "Preparing to unpack .../nano_4.8-1ubuntu1_amd64.deb ...\n",
            "Unpacking nano (4.8-1ubuntu1) ...\n",
            "Setting up nano (4.8-1ubuntu1) ...\n",
            "update-alternatives: using /bin/nano to provide /usr/bin/editor (editor) in auto mode\n",
            "update-alternatives: using /bin/nano to provide /usr/bin/pico (pico) in auto mode\n",
            "Processing triggers for man-db (2.9.1-1) ...\n",
            "\u001b[1B\u001b[34m]\u001b[8A\b\u001b[m\u001b[m"
          ]
        }
      ]
    }
  ],
  "metadata": {
    "colab": {
      "name": "Te damos la bienvenida a Colaboratory",
      "provenance": [],
      "include_colab_link": true
    },
    "kernelspec": {
      "display_name": "Python 3",
      "name": "python3"
    }
  },
  "nbformat": 4,
  "nbformat_minor": 0
}